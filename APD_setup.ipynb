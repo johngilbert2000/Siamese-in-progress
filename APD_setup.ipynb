{
 "cells": [
  {
   "cell_type": "markdown",
   "metadata": {},
   "source": [
    "This file prepares the Asian Politicians Dataset (APD) for training with a Siamese network."
   ]
  },
  {
   "cell_type": "code",
   "execution_count": null,
   "metadata": {},
   "outputs": [],
   "source": [
    "# Unzip C.zip with Japanese filenames\n",
    "# !unzip -O \"ISO-10646-J-1\" C.zip"
   ]
  },
  {
   "cell_type": "markdown",
   "metadata": {},
   "source": [
    "This file does the following:\n",
    "\n",
    "- gets all image names from specified folder (folder `C`)\n",
    "- gets names of all the people in images from specified folder\n",
    "- creates empty folders `train` and `test`\n",
    "- for each person's name, copies 11% of files from specified folder (`C`) to folder `test`\n",
    "- for each person's name, copies remaining 89% of files from folder (`C`) to folder `train`\n",
    "- reads negative comparisons from `negative_pairs.txt`\n",
    "- reads positive comparisons from `positive_pairs.txt`\n",
    "- combines comparisons into dataframe `info`\n",
    "- updates `info` to indicate whether files are in `test` or in `train` folders for each comparison\n",
    "- saves `info` to `info.csv`\n",
    "- separates `info` based on `train` and `test` files, and saves `test_info.csv` and `train_info.csv`\n",
    "\n",
    "**Note**: Even though only 11% of image files were copied to folder `test`, there is approximately 20% of comparisons for the test set as specified in `info.csv`\n",
    "\n",
    "**Note 2**: All image files in the `test` folder are not contained in the `train` folder\n",
    "\n",
    "The result is the model will see each person at least once when training, but during testing it will compare completely unseen images for each person"
   ]
  },
  {
   "cell_type": "code",
   "execution_count": 1,
   "metadata": {},
   "outputs": [],
   "source": [
    "%reload_ext autoreload\n",
    "%matplotlib inline"
   ]
  },
  {
   "cell_type": "code",
   "execution_count": 2,
   "metadata": {},
   "outputs": [],
   "source": [
    "from fastai import *\n",
    "from fastai.vision import *\n",
    "import matplotlib.pyplot as plt\n",
    "from PIL import Image\n",
    "\n",
    "from pathlib import Path\n",
    "import pandas as pd\n",
    "import numpy as np\n",
    "import matplotlib\n",
    "from subprocess import call\n",
    "\n",
    "from fastai.metrics import error_rate"
   ]
  },
  {
   "cell_type": "code",
   "execution_count": null,
   "metadata": {},
   "outputs": [],
   "source": [
    "## get list of japanese fonts (on Linux)\n",
    "# !fc-list :lang=ja family"
   ]
  },
  {
   "cell_type": "code",
   "execution_count": 3,
   "metadata": {},
   "outputs": [],
   "source": [
    "# Add Japanese Fonts to Matplotlib\n",
    "\n",
    "fonts = \"\"\"\n",
    "Noto Sans Mono CJK TC,Noto Sans Mono CJK TC Bold\n",
    "Noto Sans CJK TC,Noto Sans CJK TC Medium\n",
    "Noto Sans CJK TC,Noto Sans CJK TC DemiLight\n",
    "Noto Sans CJK KR,Noto Sans CJK KR Black\n",
    "Noto Sans CJK TC,Noto Sans CJK TC Black\n",
    "Noto Sans Mono CJK TC,Noto Sans Mono CJK TC Regular\n",
    "Noto Sans CJK SC,Noto Sans CJK SC Light\n",
    "Noto Sans Mono CJK SC,Noto Sans Mono CJK SC Regular\n",
    "Noto Sans CJK SC,Noto Sans CJK SC Regular\n",
    "Noto Sans CJK JP,Noto Sans CJK JP Light\n",
    "Noto Sans CJK SC,Noto Sans CJK SC Medium\n",
    "Noto Sans CJK TC,Noto Sans CJK TC Regular\n",
    "Noto Sans CJK KR,Noto Sans CJK KR Bold\n",
    "Noto Sans CJK JP,Noto Sans CJK JP Bold\n",
    "Noto Sans CJK SC,Noto Sans CJK SC Bold\n",
    "Noto Sans CJK KR,Noto Sans CJK KR DemiLight\n",
    "Noto Sans CJK KR,Noto Sans CJK KR Thin\n",
    "Noto Sans CJK SC,Noto Sans CJK SC Black\n",
    "Noto Sans CJK JP,Noto Sans CJK JP Thin\n",
    "Noto Sans CJK SC,Noto Sans CJK SC Thin\n",
    "Noto Sans CJK TC,Noto Sans CJK TC Bold\n",
    "Noto Sans CJK JP,Noto Sans CJK JP Medium\n",
    "Noto Sans CJK JP,Noto Sans CJK JP Black\n",
    "Noto Sans CJK JP,Noto Sans CJK JP DemiLight\n",
    "Noto Sans Mono CJK SC,Noto Sans Mono CJK SC Bold\n",
    "Noto Sans CJK TC,Noto Sans CJK TC Light\n",
    "Noto Sans CJK SC,Noto Sans CJK SC DemiLight\n",
    "Noto Sans CJK KR,Noto Sans CJK KR Light\n",
    "Fixed\n",
    "Noto Sans Mono CJK JP,Noto Sans Mono CJK JP Regular\n",
    "TakaoPGothic\n",
    "Noto Sans CJK KR,Noto Sans CJK KR Medium\n",
    "Noto Sans CJK JP,Noto Sans CJK JP Regular\n",
    "Noto Sans Mono CJK KR,Noto Sans Mono CJK KR Regular\n",
    "Noto Sans CJK TC,Noto Sans CJK TC Thin\n",
    "Noto Sans CJK KR,Noto Sans CJK KR Regular\n",
    "Noto Sans Mono CJK KR,Noto Sans Mono CJK KR Bold\n",
    "Noto Sans Mono CJK JP,Noto Sans Mono CJK JP Bold\n",
    "\"\"\".split('\\n')[1:-1]\n",
    "fonts = list(map(lambda o: o.split(\",\"), fonts))\n",
    "\n",
    "def flatten(a): return [i for sublist in a for i in sublist]\n",
    "\n",
    "matplotlib.rcParams['font.sans-serif'] = flatten(fonts) + matplotlib.rcParams['font.sans-serif']\n",
    "plt.rcParams[\"font.family\"] = [\"sans-serif\"]\n",
    "\n",
    "# plt.rcParams[\"font.sans-serif\"] # list all fonts in use for matplotlib"
   ]
  },
  {
   "cell_type": "code",
   "execution_count": 4,
   "metadata": {},
   "outputs": [],
   "source": [
    "path = Path(\"data/\") # path to where data is stored\n",
    "path_img = path/Path(\"C/\") # folder containing all images\n",
    "extension = '.jpg' # extension of files in path_img"
   ]
  },
  {
   "cell_type": "code",
   "execution_count": 5,
   "metadata": {},
   "outputs": [
    {
     "data": {
      "text/plain": [
       "[PosixPath('data/C/北村経夫_34.jpg'),\n",
       " PosixPath('data/C/磯崎仁彦_8.jpg'),\n",
       " PosixPath('data/C/三原じゅん子_18.jpg'),\n",
       " PosixPath('data/C/自見はなこ_18.jpg'),\n",
       " PosixPath('data/C/陳鑑林_55.jpg'),\n",
       " PosixPath('data/C/那谷屋正義_44.jpg'),\n",
       " PosixPath('data/C/羽田雄一郎_15.jpg'),\n",
       " PosixPath('data/C/和田政宗_10.jpg'),\n",
       " PosixPath('data/C/黃容根_57.jpg'),\n",
       " PosixPath('data/C/森屋宏_10.jpg')]"
      ]
     },
     "execution_count": 5,
     "metadata": {},
     "output_type": "execute_result"
    }
   ],
   "source": [
    "path_img.ls()[:10] # first ten files in image path"
   ]
  },
  {
   "cell_type": "code",
   "execution_count": 6,
   "metadata": {},
   "outputs": [
    {
     "data": {
      "text/plain": [
       "1"
      ]
     },
     "execution_count": 6,
     "metadata": {},
     "output_type": "execute_result"
    }
   ],
   "source": [
    "# CLEAR FOLDERS\n",
    "# Replace train and test folders with empty folders if they exist\n",
    "\n",
    "call(f\"rm -r {path}/train\".split())\n",
    "call(f\"mkdir {path}/train\".split())\n",
    "\n",
    "call(f\"rm -r {path}/test\".split())\n",
    "call(f\"mkdir {path}/test\".split())\n",
    "\n",
    "call(f\"rm {path}/info.csv\".split()) # remove info.csv if it exists"
   ]
  },
  {
   "cell_type": "code",
   "execution_count": 7,
   "metadata": {},
   "outputs": [
    {
     "name": "stdout",
     "output_type": "stream",
     "text": [
      "Ratio of valid to train comparisons:  0.20889153973206093\n"
     ]
    },
    {
     "data": {
      "text/html": [
       "<div>\n",
       "<style scoped>\n",
       "    .dataframe tbody tr th:only-of-type {\n",
       "        vertical-align: middle;\n",
       "    }\n",
       "\n",
       "    .dataframe tbody tr th {\n",
       "        vertical-align: top;\n",
       "    }\n",
       "\n",
       "    .dataframe thead th {\n",
       "        text-align: right;\n",
       "    }\n",
       "</style>\n",
       "<table border=\"1\" class=\"dataframe\">\n",
       "  <thead>\n",
       "    <tr style=\"text-align: right;\">\n",
       "      <th></th>\n",
       "      <th>file1</th>\n",
       "      <th>file2</th>\n",
       "      <th>label</th>\n",
       "      <th>train</th>\n",
       "    </tr>\n",
       "  </thead>\n",
       "  <tbody>\n",
       "    <tr>\n",
       "      <th>0</th>\n",
       "      <td>梁家騮_82.jpg</td>\n",
       "      <td>郭家麒_33.jpg</td>\n",
       "      <td>False</td>\n",
       "      <td>True</td>\n",
       "    </tr>\n",
       "    <tr>\n",
       "      <th>1</th>\n",
       "      <td>吳敦義_12.jpg</td>\n",
       "      <td>吳敦義_26.jpg</td>\n",
       "      <td>True</td>\n",
       "      <td>True</td>\n",
       "    </tr>\n",
       "    <tr>\n",
       "      <th>2</th>\n",
       "      <td>易志明_58.jpg</td>\n",
       "      <td>易志明_32.jpg</td>\n",
       "      <td>True</td>\n",
       "      <td>True</td>\n",
       "    </tr>\n",
       "    <tr>\n",
       "      <th>3</th>\n",
       "      <td>劉銓忠_5.jpg</td>\n",
       "      <td>劉銓忠_8.jpg</td>\n",
       "      <td>True</td>\n",
       "      <td>True</td>\n",
       "    </tr>\n",
       "    <tr>\n",
       "      <th>4</th>\n",
       "      <td>李俊毅_24.jpg</td>\n",
       "      <td>姚文智_27.jpg</td>\n",
       "      <td>False</td>\n",
       "      <td>True</td>\n",
       "    </tr>\n",
       "  </tbody>\n",
       "</table>\n",
       "</div>"
      ],
      "text/plain": [
       "        file1       file2  label  train\n",
       "0  梁家騮_82.jpg  郭家麒_33.jpg  False   True\n",
       "1  吳敦義_12.jpg  吳敦義_26.jpg   True   True\n",
       "2  易志明_58.jpg  易志明_32.jpg   True   True\n",
       "3   劉銓忠_5.jpg   劉銓忠_8.jpg   True   True\n",
       "4  李俊毅_24.jpg  姚文智_27.jpg  False   True"
      ]
     },
     "execution_count": 7,
     "metadata": {},
     "output_type": "execute_result"
    }
   ],
   "source": [
    "# PREPARE INFO DATAFRAME \n",
    "# (Contains filenames to be compared, correct labels, and whether or not each comparison is training / testing)\n",
    "\n",
    "# Negative labels\n",
    "neg_pairs = pd.read_csv(path/\"negative_pairs.txt\", names=[\"pairs\"])\n",
    "neg_pairs = pd.DataFrame(neg_pairs[\"pairs\"].str.split(\"\\t\").to_list(), columns=[\"name1\",\"id1\",\"name2\",\"id2\"])\n",
    "neg_pairs = neg_pairs.reindex(sorted(neg_pairs.columns), axis=1)\n",
    "neg_pairs[\"label\"] = False\n",
    "\n",
    "# Positive labels\n",
    "pos_pairs = pd.read_csv(path/\"positive_pairs.txt\", names=[\"pairs\"])\n",
    "pos_pairs = pd.DataFrame(pos_pairs[\"pairs\"].str.split(\"\\t\").to_list(), columns=[\"name1\",\"id1\",\"id2\"])\n",
    "pos_pairs[\"name2\"] = pos_pairs[\"name1\"]\n",
    "pos_pairs = pos_pairs.reindex(sorted(pos_pairs.columns), axis=1)\n",
    "pos_pairs[\"label\"] = True\n",
    "\n",
    "# Combined labels\n",
    "info = pd.concat([pos_pairs, neg_pairs], ignore_index=True)\n",
    "info[\"file1\"] = info[\"name1\"] + \"_\" + info[\"id1\"] # add filenames\n",
    "info[\"file2\"] = info[\"name2\"] + \"_\" + info[\"id2\"]\n",
    "info_sorted = info\n",
    "info = info.reindex([\"file1\",\"file2\",\"name1\",\"name2\",\"id1\",\"id2\",\"label\"], axis=1) # reorder columns\n",
    "info = info.sample(frac=1).reset_index(drop=True) # shuffle dataframe\n",
    "\n",
    "info = info.drop([\"name1\",\"name2\",\"id1\",\"id2\"], axis=1) # drop extra columns\n",
    "\n",
    "\n",
    "\n",
    "# FILL TRAIN AND TEST FOLDERS\n",
    "\n",
    "test_pct = 0.11 # percentage of files in test folder from all files\n",
    "# Note: this is different from percentage of comparisons from test set\n",
    "\n",
    "info[\"train\"] = True\n",
    "\n",
    "# Get list of all files\n",
    "all_files = pd.concat([info_sorted[\"file1\"], info_sorted[\"file2\"]]).sort_values(ignore_index=True).drop_duplicates()\n",
    "all_files = all_files.reset_index(drop=True)\n",
    "\n",
    "# Get list of all class names\n",
    "all_names = pd.concat([info_sorted[\"name1\"], info_sorted[\"name2\"]]).sort_values(ignore_index=True).drop_duplicates()\n",
    "all_names = all_names.reset_index(drop=True)\n",
    "\n",
    "\n",
    "# Recreate all_files with a name column\n",
    "all_files = pd.concat([all_files, all_files.map(lambda o: o.split(\"_\")[0])], axis=1)\n",
    "all_files.columns = [\"file\", \"name\"]\n",
    "all_files[\"train\"] = True\n",
    "\n",
    "\n",
    "# Add file extension\n",
    "all_files[\"file\"] += extension\n",
    "info[\"file1\"] += extension\n",
    "info[\"file2\"] += extension\n",
    "\n",
    "\n",
    "# Ensure all class names are in training set and test set\n",
    "for name in all_names:\n",
    "    all_files.loc[all_files.loc[(all_files[\"name\"] == name)].sample(frac=test_pct).index, \"train\"] = False\n",
    "\n",
    "test_files = all_files[all_files[\"train\"] == False][\"file\"]\n",
    "train_files = all_files[all_files[\"train\"] == True][\"file\"]\n",
    "\n",
    "\n",
    "# COPY FILES\n",
    "\n",
    "# Move test files to test folder\n",
    "for some_file in test_files:\n",
    "    call(f\"cp {path_img}/{some_file} {path}/test\".split())\n",
    "\n",
    "# Move train files to train folder\n",
    "for some_file in train_files:\n",
    "    call(f\"cp {path_img}/{some_file} {path}/train\".split())\n",
    "\n",
    "\n",
    "# UPDATE AND SAVE INFO\n",
    "    \n",
    "# Update info: separate training set from test set\n",
    "for vfile in test_files:\n",
    "    mask = info[\"file1\"] == vfile\n",
    "    info.loc[info.loc[mask].index, \"train\"] = False\n",
    "\n",
    "    mask = info[\"file2\"] == vfile\n",
    "    info.loc[info.loc[mask].index, \"train\"] = False\n",
    "    \n",
    "info.to_csv(path/\"info.csv\") # save info\n",
    "all_names.to_csv(path/\"class_names.csv\") # save class names\n",
    "    \n",
    "# Ratio of test to train comparisons\n",
    "comparison_ratio = len(info[info[\"train\"] == False]) / len(info)\n",
    "\n",
    "print(\"Ratio of test to train comparisons: \", comparison_ratio)\n",
    "\n",
    "info.head()"
   ]
  },
  {
   "cell_type": "code",
   "execution_count": 8,
   "metadata": {},
   "outputs": [
    {
     "data": {
      "text/plain": [
       "0.11077062192303828"
      ]
     },
     "execution_count": 8,
     "metadata": {},
     "output_type": "execute_result"
    }
   ],
   "source": [
    "# this should approximately equal test_pct\n",
    "len(test_files) / len(all_files)"
   ]
  },
  {
   "cell_type": "code",
   "execution_count": 28,
   "metadata": {},
   "outputs": [
    {
     "data": {
      "text/html": [
       "<div>\n",
       "<style scoped>\n",
       "    .dataframe tbody tr th:only-of-type {\n",
       "        vertical-align: middle;\n",
       "    }\n",
       "\n",
       "    .dataframe tbody tr th {\n",
       "        vertical-align: top;\n",
       "    }\n",
       "\n",
       "    .dataframe thead th {\n",
       "        text-align: right;\n",
       "    }\n",
       "</style>\n",
       "<table border=\"1\" class=\"dataframe\">\n",
       "  <thead>\n",
       "    <tr style=\"text-align: right;\">\n",
       "      <th></th>\n",
       "      <th>file1</th>\n",
       "      <th>file2</th>\n",
       "      <th>label</th>\n",
       "    </tr>\n",
       "  </thead>\n",
       "  <tbody>\n",
       "    <tr>\n",
       "      <th>0</th>\n",
       "      <td>江崎鐵磨_2.jpg</td>\n",
       "      <td>松下新平_25.jpg</td>\n",
       "      <td>False</td>\n",
       "    </tr>\n",
       "    <tr>\n",
       "      <th>1</th>\n",
       "      <td>謝偉銓_2.jpg</td>\n",
       "      <td>方剛_80.jpg</td>\n",
       "      <td>False</td>\n",
       "    </tr>\n",
       "    <tr>\n",
       "      <th>2</th>\n",
       "      <td>李嘉進_27.jpg</td>\n",
       "      <td>丁守中_18.jpg</td>\n",
       "      <td>False</td>\n",
       "    </tr>\n",
       "    <tr>\n",
       "      <th>3</th>\n",
       "      <td>楊麗環_5.jpg</td>\n",
       "      <td>楊麗環_8.jpg</td>\n",
       "      <td>True</td>\n",
       "    </tr>\n",
       "    <tr>\n",
       "      <th>4</th>\n",
       "      <td>張學明_38.jpg</td>\n",
       "      <td>張學明_72.jpg</td>\n",
       "      <td>True</td>\n",
       "    </tr>\n",
       "  </tbody>\n",
       "</table>\n",
       "</div>"
      ],
      "text/plain": [
       "        file1        file2  label\n",
       "0  江崎鐵磨_2.jpg  松下新平_25.jpg  False\n",
       "1   謝偉銓_2.jpg    方剛_80.jpg  False\n",
       "2  李嘉進_27.jpg   丁守中_18.jpg  False\n",
       "3   楊麗環_5.jpg    楊麗環_8.jpg   True\n",
       "4  張學明_38.jpg   張學明_72.jpg   True"
      ]
     },
     "execution_count": 28,
     "metadata": {},
     "output_type": "execute_result"
    }
   ],
   "source": [
    "# Save info for test and train folders separately as well\n",
    "\n",
    "mask = info[\"train\"] == True\n",
    "train_info = info[mask]\n",
    "\n",
    "mask = info[\"train\"] == False\n",
    "test_info = info[mask]\n",
    "\n",
    "train_info = train_info.drop([\"train\"], axis=1).reset_index(drop=True)\n",
    "test_info = test_info.drop([\"train\"], axis=1).reset_index(drop=True)\n",
    "\n",
    "train_info.to_csv(path/\"train_info.csv\")\n",
    "test_info.to_csv(path/\"test_info.csv\")\n",
    "\n",
    "test_info.head()"
   ]
  },
  {
   "cell_type": "code",
   "execution_count": null,
   "metadata": {},
   "outputs": [],
   "source": []
  }
 ],
 "metadata": {
  "kernelspec": {
   "display_name": "Python 3",
   "language": "python",
   "name": "python3"
  },
  "language_info": {
   "codemirror_mode": {
    "name": "ipython",
    "version": 3
   },
   "file_extension": ".py",
   "mimetype": "text/x-python",
   "name": "python",
   "nbconvert_exporter": "python",
   "pygments_lexer": "ipython3",
   "version": "3.7.7"
  },
  "toc": {
   "base_numbering": 1,
   "nav_menu": {},
   "number_sections": true,
   "sideBar": true,
   "skip_h1_title": false,
   "title_cell": "Table of Contents",
   "title_sidebar": "Contents",
   "toc_cell": false,
   "toc_position": {},
   "toc_section_display": true,
   "toc_window_display": false
  }
 },
 "nbformat": 4,
 "nbformat_minor": 2
}
