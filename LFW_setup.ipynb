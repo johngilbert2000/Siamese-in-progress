{
 "cells": [
  {
   "cell_type": "markdown",
   "metadata": {},
   "source": [
    "**This file sets up the LFW dataset for training with a Siamese network**"
   ]
  },
  {
   "cell_type": "markdown",
   "metadata": {},
   "source": [
    "Download the Labeled Faces in the Wild (LFW) dataset:\n",
    "http://vis-www.cs.umass.edu/lfw/#download\n",
    "\n",
    "Then, run this notebook in the same directory as your dataset to create the following files: \n",
    "\n",
    "- `lfw_names.csv`: a CSV file containing names of all people that have more than one image in the LFW dataset, as well as a list of all files for each name\n",
    "- `LFW_pos_pairs.csv`: a CSV file listing info for randomly selected positive (matching) image pairs (i.e., two different images of the same person)\n",
    "- `LFW_neg_pairs.csv`: a CSV file listing info for randomly selected negative (nonmatching) image pairs\n",
    "- `LFW_info.csv`: a CSV file that combines `LFW_neg_pairs.csv` and `LFW_pos_pairs.csv`, and labels them according to whether or not they're of the same person, and whether or not they're in the training set (80% train : 20% test)\n",
    "- `train_info.csv`: the training part of `LFW_info.csv`\n",
    "- `test_info.csv`: the test / validation part of `LFW_info.csv`\n",
    "\n",
    "This notebook will also create the following subdirectories:\n",
    "\n",
    "- `/faces`: a folder containing all images listed in `lfw_names.csv`\n",
    "- `/LFW_train`: a folder containing all images in the training set, as specified in `train_info.csv`\n",
    "- `/LFW_test`: a folder containing all images in the testing or validation set, as specified in `test_info.csv`\n",
    "\n",
    "\n",
    "**Note**: re-running this file will overwrite any folders or files in this directory that have the same name as those above\n",
    "\n",
    "The folders and files needed for training are:\n",
    "\n",
    "- `train_info.csv`\n",
    "- `test_info.csv`\n",
    "- `/LFW_train`\n",
    "- `/LFW_test`"
   ]
  },
  {
   "cell_type": "code",
   "execution_count": null,
   "metadata": {},
   "outputs": [],
   "source": []
  },
  {
   "cell_type": "code",
   "execution_count": 1,
   "metadata": {},
   "outputs": [],
   "source": [
    "# unzip LFW dataset\n",
    "# !tar zxvf lfw.tgz"
   ]
  },
  {
   "cell_type": "code",
   "execution_count": 2,
   "metadata": {},
   "outputs": [],
   "source": [
    "from pathlib import Path\n",
    "import pandas as pd\n",
    "import numpy as np\n",
    "from subprocess import call\n",
    "import os"
   ]
  },
  {
   "cell_type": "code",
   "execution_count": 3,
   "metadata": {},
   "outputs": [
    {
     "data": {
      "text/plain": [
       "5749"
      ]
     },
     "execution_count": 3,
     "metadata": {},
     "output_type": "execute_result"
    }
   ],
   "source": [
    "path = Path(\"./lfw\")\n",
    "folders = os.listdir(path)\n",
    "\n",
    "len(folders)"
   ]
  },
  {
   "cell_type": "code",
   "execution_count": 7,
   "metadata": {},
   "outputs": [
    {
     "data": {
      "text/plain": [
       "1680"
      ]
     },
     "execution_count": 7,
     "metadata": {},
     "output_type": "execute_result"
    }
   ],
   "source": [
    "# remove folders with less than 2 photos\n",
    "for folder in folders:\n",
    "    length = len(os.listdir(path/folder))\n",
    "    if length < 2:\n",
    "        call(f\"rm -r {path}/{folder}\".split()) # remove folder\n",
    "\n",
    "folders = os.listdir(path)\n",
    "len(folders)"
   ]
  },
  {
   "cell_type": "code",
   "execution_count": 36,
   "metadata": {},
   "outputs": [
    {
     "data": {
      "text/html": [
       "<div>\n",
       "<style scoped>\n",
       "    .dataframe tbody tr th:only-of-type {\n",
       "        vertical-align: middle;\n",
       "    }\n",
       "\n",
       "    .dataframe tbody tr th {\n",
       "        vertical-align: top;\n",
       "    }\n",
       "\n",
       "    .dataframe thead th {\n",
       "        text-align: right;\n",
       "    }\n",
       "</style>\n",
       "<table border=\"1\" class=\"dataframe\">\n",
       "  <thead>\n",
       "    <tr style=\"text-align: right;\">\n",
       "      <th></th>\n",
       "      <th>names</th>\n",
       "    </tr>\n",
       "  </thead>\n",
       "  <tbody>\n",
       "    <tr>\n",
       "      <th>0</th>\n",
       "      <td>Sharon_Davis</td>\n",
       "    </tr>\n",
       "    <tr>\n",
       "      <th>1</th>\n",
       "      <td>Lauren_Killian</td>\n",
       "    </tr>\n",
       "    <tr>\n",
       "      <th>2</th>\n",
       "      <td>Hassan_Nasrallah</td>\n",
       "    </tr>\n",
       "    <tr>\n",
       "      <th>3</th>\n",
       "      <td>Rick_Wagoner</td>\n",
       "    </tr>\n",
       "    <tr>\n",
       "      <th>4</th>\n",
       "      <td>Javier_Solana</td>\n",
       "    </tr>\n",
       "  </tbody>\n",
       "</table>\n",
       "</div>"
      ],
      "text/plain": [
       "              names\n",
       "0      Sharon_Davis\n",
       "1    Lauren_Killian\n",
       "2  Hassan_Nasrallah\n",
       "3      Rick_Wagoner\n",
       "4     Javier_Solana"
      ]
     },
     "execution_count": 36,
     "metadata": {},
     "output_type": "execute_result"
    }
   ],
   "source": [
    "lfw_names = pd.DataFrame(pd.Series(folders), columns=[\"names\"])\n",
    "\n",
    "lfw_names.head()"
   ]
  },
  {
   "cell_type": "code",
   "execution_count": 37,
   "metadata": {},
   "outputs": [
    {
     "data": {
      "text/plain": [
       "['Sharon_Davis_0001.jpg', 'Sharon_Davis_0002.jpg']"
      ]
     },
     "execution_count": 37,
     "metadata": {},
     "output_type": "execute_result"
    }
   ],
   "source": [
    "os.listdir(path/folders[0])"
   ]
  },
  {
   "cell_type": "code",
   "execution_count": 38,
   "metadata": {},
   "outputs": [],
   "source": [
    "# create a list files for each name\n",
    "files = []\n",
    "for folder in folders:\n",
    "    files.append(os.listdir(path/folder))"
   ]
  },
  {
   "cell_type": "code",
   "execution_count": 41,
   "metadata": {},
   "outputs": [],
   "source": [
    "# add the list to lfw_names\n",
    "lfw_names[\"files\"] = files"
   ]
  },
  {
   "cell_type": "code",
   "execution_count": 42,
   "metadata": {},
   "outputs": [
    {
     "data": {
      "text/html": [
       "<div>\n",
       "<style scoped>\n",
       "    .dataframe tbody tr th:only-of-type {\n",
       "        vertical-align: middle;\n",
       "    }\n",
       "\n",
       "    .dataframe tbody tr th {\n",
       "        vertical-align: top;\n",
       "    }\n",
       "\n",
       "    .dataframe thead th {\n",
       "        text-align: right;\n",
       "    }\n",
       "</style>\n",
       "<table border=\"1\" class=\"dataframe\">\n",
       "  <thead>\n",
       "    <tr style=\"text-align: right;\">\n",
       "      <th></th>\n",
       "      <th>names</th>\n",
       "      <th>files</th>\n",
       "    </tr>\n",
       "  </thead>\n",
       "  <tbody>\n",
       "    <tr>\n",
       "      <th>0</th>\n",
       "      <td>Sharon_Davis</td>\n",
       "      <td>[Sharon_Davis_0001.jpg, Sharon_Davis_0002.jpg]</td>\n",
       "    </tr>\n",
       "    <tr>\n",
       "      <th>1</th>\n",
       "      <td>Lauren_Killian</td>\n",
       "      <td>[Lauren_Killian_0001.jpg, Lauren_Killian_0002....</td>\n",
       "    </tr>\n",
       "    <tr>\n",
       "      <th>2</th>\n",
       "      <td>Hassan_Nasrallah</td>\n",
       "      <td>[Hassan_Nasrallah_0002.jpg, Hassan_Nasrallah_0...</td>\n",
       "    </tr>\n",
       "    <tr>\n",
       "      <th>3</th>\n",
       "      <td>Rick_Wagoner</td>\n",
       "      <td>[Rick_Wagoner_0001.jpg, Rick_Wagoner_0002.jpg]</td>\n",
       "    </tr>\n",
       "    <tr>\n",
       "      <th>4</th>\n",
       "      <td>Javier_Solana</td>\n",
       "      <td>[Javier_Solana_0006.jpg, Javier_Solana_0002.jp...</td>\n",
       "    </tr>\n",
       "    <tr>\n",
       "      <th>...</th>\n",
       "      <td>...</td>\n",
       "      <td>...</td>\n",
       "    </tr>\n",
       "    <tr>\n",
       "      <th>1675</th>\n",
       "      <td>Nancy_Pelosi</td>\n",
       "      <td>[Nancy_Pelosi_0006.jpg, Nancy_Pelosi_0011.jpg,...</td>\n",
       "    </tr>\n",
       "    <tr>\n",
       "      <th>1676</th>\n",
       "      <td>John_McEnroe</td>\n",
       "      <td>[John_McEnroe_0002.jpg, John_McEnroe_0001.jpg]</td>\n",
       "    </tr>\n",
       "    <tr>\n",
       "      <th>1677</th>\n",
       "      <td>Martin_Scorsese</td>\n",
       "      <td>[Martin_Scorsese_0001.jpg, Martin_Scorsese_000...</td>\n",
       "    </tr>\n",
       "    <tr>\n",
       "      <th>1678</th>\n",
       "      <td>Ernesto_Zedillo</td>\n",
       "      <td>[Ernesto_Zedillo_0002.jpg, Ernesto_Zedillo_000...</td>\n",
       "    </tr>\n",
       "    <tr>\n",
       "      <th>1679</th>\n",
       "      <td>Miyako_Miyazaki</td>\n",
       "      <td>[Miyako_Miyazaki_0002.jpg, Miyako_Miyazaki_000...</td>\n",
       "    </tr>\n",
       "  </tbody>\n",
       "</table>\n",
       "<p>1680 rows × 2 columns</p>\n",
       "</div>"
      ],
      "text/plain": [
       "                 names                                              files\n",
       "0         Sharon_Davis     [Sharon_Davis_0001.jpg, Sharon_Davis_0002.jpg]\n",
       "1       Lauren_Killian  [Lauren_Killian_0001.jpg, Lauren_Killian_0002....\n",
       "2     Hassan_Nasrallah  [Hassan_Nasrallah_0002.jpg, Hassan_Nasrallah_0...\n",
       "3         Rick_Wagoner     [Rick_Wagoner_0001.jpg, Rick_Wagoner_0002.jpg]\n",
       "4        Javier_Solana  [Javier_Solana_0006.jpg, Javier_Solana_0002.jp...\n",
       "...                ...                                                ...\n",
       "1675      Nancy_Pelosi  [Nancy_Pelosi_0006.jpg, Nancy_Pelosi_0011.jpg,...\n",
       "1676      John_McEnroe     [John_McEnroe_0002.jpg, John_McEnroe_0001.jpg]\n",
       "1677   Martin_Scorsese  [Martin_Scorsese_0001.jpg, Martin_Scorsese_000...\n",
       "1678   Ernesto_Zedillo  [Ernesto_Zedillo_0002.jpg, Ernesto_Zedillo_000...\n",
       "1679   Miyako_Miyazaki  [Miyako_Miyazaki_0002.jpg, Miyako_Miyazaki_000...\n",
       "\n",
       "[1680 rows x 2 columns]"
      ]
     },
     "execution_count": 42,
     "metadata": {},
     "output_type": "execute_result"
    }
   ],
   "source": [
    "lfw_names"
   ]
  },
  {
   "cell_type": "code",
   "execution_count": 43,
   "metadata": {},
   "outputs": [],
   "source": [
    "lfw_names.to_csv(\"lfw_names.csv\", index=False) # save to csv"
   ]
  },
  {
   "cell_type": "code",
   "execution_count": 58,
   "metadata": {},
   "outputs": [
    {
     "data": {
      "text/plain": [
       "0"
      ]
     },
     "execution_count": 58,
     "metadata": {},
     "output_type": "execute_result"
    }
   ],
   "source": [
    "# create an empty folder `./faces`\n",
    "call(\"rm -r faces\".split())\n",
    "call(\"mkdir faces\".split()) "
   ]
  },
  {
   "cell_type": "code",
   "execution_count": 71,
   "metadata": {},
   "outputs": [],
   "source": [
    "# move all files to folder `./faces`\n",
    "for (i, folder) in enumerate(folders):\n",
    "    filelist = lfw_names.iloc[i,1]\n",
    "    for file in filelist:\n",
    "        call(f\"cp {path}/{folder}/{file} faces\".split())"
   ]
  },
  {
   "cell_type": "code",
   "execution_count": 74,
   "metadata": {},
   "outputs": [
    {
     "data": {
      "text/plain": [
       "9164"
      ]
     },
     "execution_count": 74,
     "metadata": {},
     "output_type": "execute_result"
    }
   ],
   "source": [
    "len(os.listdir(\"faces\"))"
   ]
  },
  {
   "cell_type": "code",
   "execution_count": 121,
   "metadata": {},
   "outputs": [],
   "source": [
    "total_samples = 21796 # numbers based on Asian Politician Dataset\n",
    "total_neg_pairs = 10898\n",
    "total_pos_pairs = 10898\n",
    "\n",
    "# MAKE NEG PAIRS DF\n",
    "length = len(lfw_names)\n",
    "names = lfw_names[\"names\"].tolist()\n",
    "\n",
    "neg_pairs = []\n",
    "\n",
    "for _ in range(total_neg_pairs):\n",
    "    # get files for one name\n",
    "    idx1 = np.random.randint(0, high=length) # name1 id\n",
    "    name1_files = files[idx1]\n",
    "    \n",
    "    # get files for another name\n",
    "    idx2 = np.random.randint(0, high=length) # name2 id\n",
    "    \n",
    "    # choose name2 id again if matching name1 id\n",
    "    while (idx1 == idx2):\n",
    "        idx2 = np.random.randint(0, high=length)\n",
    "        \n",
    "    name2_files = files[idx2]\n",
    "        \n",
    "    # randomly select a file for each name\n",
    "    file_id1 = np.random.randint(0, high=len(name1_files))\n",
    "    file_id2 = np.random.randint(0, high=len(name2_files))\n",
    "    \n",
    "    file1 = name1_files[file_id1]\n",
    "    file2 = name2_files[file_id2]\n",
    "    neg_pairs.append([file1, file2, False])\n",
    "    "
   ]
  },
  {
   "cell_type": "code",
   "execution_count": 123,
   "metadata": {},
   "outputs": [],
   "source": [
    "neg_df = pd.DataFrame(neg_pairs, columns=[\"file1\",\"file2\",\"label\"])"
   ]
  },
  {
   "cell_type": "code",
   "execution_count": 124,
   "metadata": {},
   "outputs": [
    {
     "data": {
      "text/html": [
       "<div>\n",
       "<style scoped>\n",
       "    .dataframe tbody tr th:only-of-type {\n",
       "        vertical-align: middle;\n",
       "    }\n",
       "\n",
       "    .dataframe tbody tr th {\n",
       "        vertical-align: top;\n",
       "    }\n",
       "\n",
       "    .dataframe thead th {\n",
       "        text-align: right;\n",
       "    }\n",
       "</style>\n",
       "<table border=\"1\" class=\"dataframe\">\n",
       "  <thead>\n",
       "    <tr style=\"text-align: right;\">\n",
       "      <th></th>\n",
       "      <th>file1</th>\n",
       "      <th>file2</th>\n",
       "      <th>label</th>\n",
       "    </tr>\n",
       "  </thead>\n",
       "  <tbody>\n",
       "    <tr>\n",
       "      <th>0</th>\n",
       "      <td>Jan-Michael_Gambill_0001.jpg</td>\n",
       "      <td>Kristin_Davis_0002.jpg</td>\n",
       "      <td>False</td>\n",
       "    </tr>\n",
       "    <tr>\n",
       "      <th>1</th>\n",
       "      <td>Jean-David_Levitte_0002.jpg</td>\n",
       "      <td>Geoff_Hoon_0003.jpg</td>\n",
       "      <td>False</td>\n",
       "    </tr>\n",
       "    <tr>\n",
       "      <th>2</th>\n",
       "      <td>Vince_Gill_0001.jpg</td>\n",
       "      <td>Don_Nickles_0002.jpg</td>\n",
       "      <td>False</td>\n",
       "    </tr>\n",
       "    <tr>\n",
       "      <th>3</th>\n",
       "      <td>Ronaldo_Luis_Nazario_de_Lima_0003.jpg</td>\n",
       "      <td>Kofi_Annan_0002.jpg</td>\n",
       "      <td>False</td>\n",
       "    </tr>\n",
       "    <tr>\n",
       "      <th>4</th>\n",
       "      <td>Tiger_Woods_0003.jpg</td>\n",
       "      <td>Aron_Ralston_0002.jpg</td>\n",
       "      <td>False</td>\n",
       "    </tr>\n",
       "    <tr>\n",
       "      <th>...</th>\n",
       "      <td>...</td>\n",
       "      <td>...</td>\n",
       "      <td>...</td>\n",
       "    </tr>\n",
       "    <tr>\n",
       "      <th>10893</th>\n",
       "      <td>Lindsay_Benko_0002.jpg</td>\n",
       "      <td>Paul_McCartney_0002.jpg</td>\n",
       "      <td>False</td>\n",
       "    </tr>\n",
       "    <tr>\n",
       "      <th>10894</th>\n",
       "      <td>Jelena_Dokic_0002.jpg</td>\n",
       "      <td>Jacques_Chirac_0027.jpg</td>\n",
       "      <td>False</td>\n",
       "    </tr>\n",
       "    <tr>\n",
       "      <th>10895</th>\n",
       "      <td>Pete_Rose_0002.jpg</td>\n",
       "      <td>Sebastien_Grosjean_0001.jpg</td>\n",
       "      <td>False</td>\n",
       "    </tr>\n",
       "    <tr>\n",
       "      <th>10896</th>\n",
       "      <td>Andre_Agassi_0013.jpg</td>\n",
       "      <td>Rebekah_Chantay_Revels_0004.jpg</td>\n",
       "      <td>False</td>\n",
       "    </tr>\n",
       "    <tr>\n",
       "      <th>10897</th>\n",
       "      <td>Bulent_Ecevit_0001.jpg</td>\n",
       "      <td>Rob_Lowe_0002.jpg</td>\n",
       "      <td>False</td>\n",
       "    </tr>\n",
       "  </tbody>\n",
       "</table>\n",
       "<p>10898 rows × 3 columns</p>\n",
       "</div>"
      ],
      "text/plain": [
       "                                       file1                            file2  \\\n",
       "0               Jan-Michael_Gambill_0001.jpg           Kristin_Davis_0002.jpg   \n",
       "1                Jean-David_Levitte_0002.jpg              Geoff_Hoon_0003.jpg   \n",
       "2                        Vince_Gill_0001.jpg             Don_Nickles_0002.jpg   \n",
       "3      Ronaldo_Luis_Nazario_de_Lima_0003.jpg              Kofi_Annan_0002.jpg   \n",
       "4                       Tiger_Woods_0003.jpg            Aron_Ralston_0002.jpg   \n",
       "...                                      ...                              ...   \n",
       "10893                 Lindsay_Benko_0002.jpg          Paul_McCartney_0002.jpg   \n",
       "10894                  Jelena_Dokic_0002.jpg          Jacques_Chirac_0027.jpg   \n",
       "10895                     Pete_Rose_0002.jpg      Sebastien_Grosjean_0001.jpg   \n",
       "10896                  Andre_Agassi_0013.jpg  Rebekah_Chantay_Revels_0004.jpg   \n",
       "10897                 Bulent_Ecevit_0001.jpg                Rob_Lowe_0002.jpg   \n",
       "\n",
       "       label  \n",
       "0      False  \n",
       "1      False  \n",
       "2      False  \n",
       "3      False  \n",
       "4      False  \n",
       "...      ...  \n",
       "10893  False  \n",
       "10894  False  \n",
       "10895  False  \n",
       "10896  False  \n",
       "10897  False  \n",
       "\n",
       "[10898 rows x 3 columns]"
      ]
     },
     "execution_count": 124,
     "metadata": {},
     "output_type": "execute_result"
    }
   ],
   "source": [
    "neg_df"
   ]
  },
  {
   "cell_type": "code",
   "execution_count": 130,
   "metadata": {},
   "outputs": [],
   "source": [
    "neg_df.to_csv(\"LFW_neg_pairs.csv\", index=False)"
   ]
  },
  {
   "cell_type": "code",
   "execution_count": 133,
   "metadata": {},
   "outputs": [],
   "source": [
    "total_samples = 21796\n",
    "total_neg_pairs = 10898\n",
    "total_pos_pairs = 10898\n",
    "\n",
    "# MAKE POS PAIRS DF\n",
    "length = len(lfw_names)\n",
    "names = lfw_names[\"names\"].tolist()\n",
    "\n",
    "pos_pairs = []\n",
    "\n",
    "for _ in range(total_pos_pairs):\n",
    "    # get files for one name\n",
    "    idx = np.random.randint(0, high=length) # name1 id\n",
    "    name_files = files[idx]\n",
    "        \n",
    "    # randomly select two files for that name\n",
    "    file_id1 = np.random.randint(0, high=len(name_files))\n",
    "    file_id2 = np.random.randint(0, high=len(name_files))\n",
    "    \n",
    "    # ensure no duplicates\n",
    "    while (file_id1 == file_id2):\n",
    "        file_id2 = np.random.randint(0, high=len(name_files))\n",
    "    \n",
    "    file1 = name_files[file_id1]\n",
    "    file2 = name_files[file_id2]\n",
    "    pos_pairs.append([file1, file2, True])\n",
    "    "
   ]
  },
  {
   "cell_type": "code",
   "execution_count": 134,
   "metadata": {},
   "outputs": [
    {
     "data": {
      "text/html": [
       "<div>\n",
       "<style scoped>\n",
       "    .dataframe tbody tr th:only-of-type {\n",
       "        vertical-align: middle;\n",
       "    }\n",
       "\n",
       "    .dataframe tbody tr th {\n",
       "        vertical-align: top;\n",
       "    }\n",
       "\n",
       "    .dataframe thead th {\n",
       "        text-align: right;\n",
       "    }\n",
       "</style>\n",
       "<table border=\"1\" class=\"dataframe\">\n",
       "  <thead>\n",
       "    <tr style=\"text-align: right;\">\n",
       "      <th></th>\n",
       "      <th>file1</th>\n",
       "      <th>file2</th>\n",
       "      <th>label</th>\n",
       "    </tr>\n",
       "  </thead>\n",
       "  <tbody>\n",
       "    <tr>\n",
       "      <th>0</th>\n",
       "      <td>Norm_Coleman_0003.jpg</td>\n",
       "      <td>Norm_Coleman_0007.jpg</td>\n",
       "      <td>True</td>\n",
       "    </tr>\n",
       "    <tr>\n",
       "      <th>1</th>\n",
       "      <td>Carlos_Moya_0015.jpg</td>\n",
       "      <td>Carlos_Moya_0011.jpg</td>\n",
       "      <td>True</td>\n",
       "    </tr>\n",
       "    <tr>\n",
       "      <th>2</th>\n",
       "      <td>Michael_Ballack_0001.jpg</td>\n",
       "      <td>Michael_Ballack_0002.jpg</td>\n",
       "      <td>True</td>\n",
       "    </tr>\n",
       "    <tr>\n",
       "      <th>3</th>\n",
       "      <td>Anthony_Hopkins_0002.jpg</td>\n",
       "      <td>Anthony_Hopkins_0001.jpg</td>\n",
       "      <td>True</td>\n",
       "    </tr>\n",
       "    <tr>\n",
       "      <th>4</th>\n",
       "      <td>Angela_Bassett_0006.jpg</td>\n",
       "      <td>Angela_Bassett_0005.jpg</td>\n",
       "      <td>True</td>\n",
       "    </tr>\n",
       "  </tbody>\n",
       "</table>\n",
       "</div>"
      ],
      "text/plain": [
       "                      file1                     file2  label\n",
       "0     Norm_Coleman_0003.jpg     Norm_Coleman_0007.jpg   True\n",
       "1      Carlos_Moya_0015.jpg      Carlos_Moya_0011.jpg   True\n",
       "2  Michael_Ballack_0001.jpg  Michael_Ballack_0002.jpg   True\n",
       "3  Anthony_Hopkins_0002.jpg  Anthony_Hopkins_0001.jpg   True\n",
       "4   Angela_Bassett_0006.jpg   Angela_Bassett_0005.jpg   True"
      ]
     },
     "execution_count": 134,
     "metadata": {},
     "output_type": "execute_result"
    }
   ],
   "source": [
    "pos_df = pd.DataFrame(pos_pairs, columns=[\"file1\",\"file2\",\"label\"])\n",
    "pos_df.head()"
   ]
  },
  {
   "cell_type": "code",
   "execution_count": 135,
   "metadata": {},
   "outputs": [],
   "source": [
    "pos_df.to_csv(\"LFW_pos_pairs.csv\", index=False)"
   ]
  },
  {
   "cell_type": "code",
   "execution_count": 138,
   "metadata": {},
   "outputs": [
    {
     "data": {
      "text/html": [
       "<div>\n",
       "<style scoped>\n",
       "    .dataframe tbody tr th:only-of-type {\n",
       "        vertical-align: middle;\n",
       "    }\n",
       "\n",
       "    .dataframe tbody tr th {\n",
       "        vertical-align: top;\n",
       "    }\n",
       "\n",
       "    .dataframe thead th {\n",
       "        text-align: right;\n",
       "    }\n",
       "</style>\n",
       "<table border=\"1\" class=\"dataframe\">\n",
       "  <thead>\n",
       "    <tr style=\"text-align: right;\">\n",
       "      <th></th>\n",
       "      <th>file1</th>\n",
       "      <th>file2</th>\n",
       "      <th>label</th>\n",
       "    </tr>\n",
       "  </thead>\n",
       "  <tbody>\n",
       "    <tr>\n",
       "      <th>0</th>\n",
       "      <td>Norm_Coleman_0003.jpg</td>\n",
       "      <td>Norm_Coleman_0007.jpg</td>\n",
       "      <td>True</td>\n",
       "    </tr>\n",
       "    <tr>\n",
       "      <th>1</th>\n",
       "      <td>Carlos_Moya_0015.jpg</td>\n",
       "      <td>Carlos_Moya_0011.jpg</td>\n",
       "      <td>True</td>\n",
       "    </tr>\n",
       "    <tr>\n",
       "      <th>2</th>\n",
       "      <td>Michael_Ballack_0001.jpg</td>\n",
       "      <td>Michael_Ballack_0002.jpg</td>\n",
       "      <td>True</td>\n",
       "    </tr>\n",
       "    <tr>\n",
       "      <th>3</th>\n",
       "      <td>Anthony_Hopkins_0002.jpg</td>\n",
       "      <td>Anthony_Hopkins_0001.jpg</td>\n",
       "      <td>True</td>\n",
       "    </tr>\n",
       "    <tr>\n",
       "      <th>4</th>\n",
       "      <td>Angela_Bassett_0006.jpg</td>\n",
       "      <td>Angela_Bassett_0005.jpg</td>\n",
       "      <td>True</td>\n",
       "    </tr>\n",
       "    <tr>\n",
       "      <th>...</th>\n",
       "      <td>...</td>\n",
       "      <td>...</td>\n",
       "      <td>...</td>\n",
       "    </tr>\n",
       "    <tr>\n",
       "      <th>21791</th>\n",
       "      <td>Lindsay_Benko_0002.jpg</td>\n",
       "      <td>Paul_McCartney_0002.jpg</td>\n",
       "      <td>False</td>\n",
       "    </tr>\n",
       "    <tr>\n",
       "      <th>21792</th>\n",
       "      <td>Jelena_Dokic_0002.jpg</td>\n",
       "      <td>Jacques_Chirac_0027.jpg</td>\n",
       "      <td>False</td>\n",
       "    </tr>\n",
       "    <tr>\n",
       "      <th>21793</th>\n",
       "      <td>Pete_Rose_0002.jpg</td>\n",
       "      <td>Sebastien_Grosjean_0001.jpg</td>\n",
       "      <td>False</td>\n",
       "    </tr>\n",
       "    <tr>\n",
       "      <th>21794</th>\n",
       "      <td>Andre_Agassi_0013.jpg</td>\n",
       "      <td>Rebekah_Chantay_Revels_0004.jpg</td>\n",
       "      <td>False</td>\n",
       "    </tr>\n",
       "    <tr>\n",
       "      <th>21795</th>\n",
       "      <td>Bulent_Ecevit_0001.jpg</td>\n",
       "      <td>Rob_Lowe_0002.jpg</td>\n",
       "      <td>False</td>\n",
       "    </tr>\n",
       "  </tbody>\n",
       "</table>\n",
       "<p>21796 rows × 3 columns</p>\n",
       "</div>"
      ],
      "text/plain": [
       "                          file1                            file2  label\n",
       "0         Norm_Coleman_0003.jpg            Norm_Coleman_0007.jpg   True\n",
       "1          Carlos_Moya_0015.jpg             Carlos_Moya_0011.jpg   True\n",
       "2      Michael_Ballack_0001.jpg         Michael_Ballack_0002.jpg   True\n",
       "3      Anthony_Hopkins_0002.jpg         Anthony_Hopkins_0001.jpg   True\n",
       "4       Angela_Bassett_0006.jpg          Angela_Bassett_0005.jpg   True\n",
       "...                         ...                              ...    ...\n",
       "21791    Lindsay_Benko_0002.jpg          Paul_McCartney_0002.jpg  False\n",
       "21792     Jelena_Dokic_0002.jpg          Jacques_Chirac_0027.jpg  False\n",
       "21793        Pete_Rose_0002.jpg      Sebastien_Grosjean_0001.jpg  False\n",
       "21794     Andre_Agassi_0013.jpg  Rebekah_Chantay_Revels_0004.jpg  False\n",
       "21795    Bulent_Ecevit_0001.jpg                Rob_Lowe_0002.jpg  False\n",
       "\n",
       "[21796 rows x 3 columns]"
      ]
     },
     "execution_count": 138,
     "metadata": {},
     "output_type": "execute_result"
    }
   ],
   "source": [
    "combined = pd.concat([pos_df, neg_df], ignore_index=True)\n",
    "combined"
   ]
  },
  {
   "cell_type": "code",
   "execution_count": 139,
   "metadata": {},
   "outputs": [],
   "source": [
    "combined[\"train\"] = True"
   ]
  },
  {
   "cell_type": "code",
   "execution_count": 143,
   "metadata": {},
   "outputs": [],
   "source": [
    "# select 20% of combined neg and pos pairs, and declare them as part of the test/validation set\n",
    "combined.loc[combined.sample(frac=0.2).index, \"train\"] = False"
   ]
  },
  {
   "cell_type": "code",
   "execution_count": 148,
   "metadata": {},
   "outputs": [],
   "source": [
    "# grab all file names for training and validation, respectively\n",
    "file1_valid = combined[combined[\"train\"] == False][\"file1\"]\n",
    "file2_valid = combined[combined[\"train\"] == False][\"file2\"]\n",
    "\n",
    "file1_train = combined[combined[\"train\"] == True][\"file1\"]\n",
    "file2_train = combined[combined[\"train\"] == True][\"file2\"]"
   ]
  },
  {
   "cell_type": "code",
   "execution_count": 151,
   "metadata": {},
   "outputs": [],
   "source": [
    "valid_files = pd.concat([file1_valid, file2_valid]).drop_duplicates()\n",
    "train_files = pd.concat([file1_train, file2_train]).drop_duplicates()"
   ]
  },
  {
   "cell_type": "code",
   "execution_count": 164,
   "metadata": {},
   "outputs": [
    {
     "data": {
      "text/plain": [
       "0"
      ]
     },
     "execution_count": 164,
     "metadata": {},
     "output_type": "execute_result"
    }
   ],
   "source": [
    "# create empty folders `/LFW_train` and `/LFW_test`\n",
    "call(\"rm -r LFW_train\".split())\n",
    "call(\"mkdir LFW_train\".split())\n",
    "\n",
    "call(\"rm -r LFW_test\".split())\n",
    "call(\"mkdir LFW_test\".split())\n",
    "\n"
   ]
  },
  {
   "cell_type": "code",
   "execution_count": 166,
   "metadata": {},
   "outputs": [],
   "source": [
    "# copy all files not in training to `/LFW_test`\n",
    "for valid_file in valid_files:\n",
    "    call(f\"cp faces/{valid_file} LFW_test\".split())"
   ]
  },
  {
   "cell_type": "code",
   "execution_count": 167,
   "metadata": {},
   "outputs": [],
   "source": [
    "# copy all files in training to `/LFW_train`\n",
    "for train_file in train_files:\n",
    "    call(f\"cp faces/{train_file} LFW_train\".split())"
   ]
  },
  {
   "cell_type": "code",
   "execution_count": 175,
   "metadata": {},
   "outputs": [],
   "source": [
    "# shuffle combined\n",
    "combined = combined.sample(frac=1).reset_index(drop=True)"
   ]
  },
  {
   "cell_type": "code",
   "execution_count": 176,
   "metadata": {},
   "outputs": [],
   "source": [
    "# save info to CSV\n",
    "combined.to_csv(\"LFW_info.csv\", index=False)"
   ]
  },
  {
   "cell_type": "code",
   "execution_count": 168,
   "metadata": {},
   "outputs": [
    {
     "data": {
      "text/plain": [
       "(6713, 4368)"
      ]
     },
     "execution_count": 168,
     "metadata": {},
     "output_type": "execute_result"
    }
   ],
   "source": [
    "# check folder sizes\n",
    "len(os.listdir(\"LFW_train\")), len(os.listdir(\"LFW_test\"))"
   ]
  },
  {
   "cell_type": "code",
   "execution_count": 169,
   "metadata": {},
   "outputs": [
    {
     "data": {
      "text/plain": [
       "(6713, 4368)"
      ]
     },
     "execution_count": 169,
     "metadata": {},
     "output_type": "execute_result"
    }
   ],
   "source": [
    "len(train_files), len(valid_files)"
   ]
  },
  {
   "cell_type": "code",
   "execution_count": 177,
   "metadata": {},
   "outputs": [
    {
     "data": {
      "text/html": [
       "<div>\n",
       "<style scoped>\n",
       "    .dataframe tbody tr th:only-of-type {\n",
       "        vertical-align: middle;\n",
       "    }\n",
       "\n",
       "    .dataframe tbody tr th {\n",
       "        vertical-align: top;\n",
       "    }\n",
       "\n",
       "    .dataframe thead th {\n",
       "        text-align: right;\n",
       "    }\n",
       "</style>\n",
       "<table border=\"1\" class=\"dataframe\">\n",
       "  <thead>\n",
       "    <tr style=\"text-align: right;\">\n",
       "      <th></th>\n",
       "      <th>file1</th>\n",
       "      <th>file2</th>\n",
       "      <th>label</th>\n",
       "    </tr>\n",
       "  </thead>\n",
       "  <tbody>\n",
       "    <tr>\n",
       "      <th>0</th>\n",
       "      <td>Valentino_Rossi_0003.jpg</td>\n",
       "      <td>Valentino_Rossi_0001.jpg</td>\n",
       "      <td>True</td>\n",
       "    </tr>\n",
       "    <tr>\n",
       "      <th>1</th>\n",
       "      <td>Kevin_Costner_0004.jpg</td>\n",
       "      <td>Kevin_Costner_0007.jpg</td>\n",
       "      <td>True</td>\n",
       "    </tr>\n",
       "    <tr>\n",
       "      <th>2</th>\n",
       "      <td>Vladimiro_Montesinos_0003.jpg</td>\n",
       "      <td>Samira_Makhmalbaf_0001.jpg</td>\n",
       "      <td>False</td>\n",
       "    </tr>\n",
       "    <tr>\n",
       "      <th>3</th>\n",
       "      <td>Cate_Blanchett_0003.jpg</td>\n",
       "      <td>Oscar_Elias_Biscet_0002.jpg</td>\n",
       "      <td>False</td>\n",
       "    </tr>\n",
       "    <tr>\n",
       "      <th>4</th>\n",
       "      <td>Jorge_Arce_0001.jpg</td>\n",
       "      <td>Jorge_Arce_0002.jpg</td>\n",
       "      <td>True</td>\n",
       "    </tr>\n",
       "  </tbody>\n",
       "</table>\n",
       "</div>"
      ],
      "text/plain": [
       "                           file1                        file2  label\n",
       "0       Valentino_Rossi_0003.jpg     Valentino_Rossi_0001.jpg   True\n",
       "1         Kevin_Costner_0004.jpg       Kevin_Costner_0007.jpg   True\n",
       "2  Vladimiro_Montesinos_0003.jpg   Samira_Makhmalbaf_0001.jpg  False\n",
       "3        Cate_Blanchett_0003.jpg  Oscar_Elias_Biscet_0002.jpg  False\n",
       "4            Jorge_Arce_0001.jpg          Jorge_Arce_0002.jpg   True"
      ]
     },
     "execution_count": 177,
     "metadata": {},
     "output_type": "execute_result"
    }
   ],
   "source": [
    "# Save info for test and train folders separately as well\n",
    "\n",
    "mask = combined[\"train\"] == True\n",
    "train_info = combined[mask]\n",
    "\n",
    "mask = combined[\"train\"] == False\n",
    "test_info = combined[mask]\n",
    "\n",
    "train_info = train_info.drop([\"train\"], axis=1).reset_index(drop=True)\n",
    "test_info = test_info.drop([\"train\"], axis=1).reset_index(drop=True)\n",
    "\n",
    "train_info.to_csv(\"train_info.csv\")\n",
    "test_info.to_csv(\"test_info.csv\")\n",
    "\n",
    "test_info.head()"
   ]
  },
  {
   "cell_type": "code",
   "execution_count": 178,
   "metadata": {},
   "outputs": [
    {
     "data": {
      "text/html": [
       "<div>\n",
       "<style scoped>\n",
       "    .dataframe tbody tr th:only-of-type {\n",
       "        vertical-align: middle;\n",
       "    }\n",
       "\n",
       "    .dataframe tbody tr th {\n",
       "        vertical-align: top;\n",
       "    }\n",
       "\n",
       "    .dataframe thead th {\n",
       "        text-align: right;\n",
       "    }\n",
       "</style>\n",
       "<table border=\"1\" class=\"dataframe\">\n",
       "  <thead>\n",
       "    <tr style=\"text-align: right;\">\n",
       "      <th></th>\n",
       "      <th>file1</th>\n",
       "      <th>file2</th>\n",
       "      <th>label</th>\n",
       "    </tr>\n",
       "  </thead>\n",
       "  <tbody>\n",
       "    <tr>\n",
       "      <th>0</th>\n",
       "      <td>Ludivine_Sagnier_0001.jpg</td>\n",
       "      <td>Robert_De_Niro_0003.jpg</td>\n",
       "      <td>False</td>\n",
       "    </tr>\n",
       "    <tr>\n",
       "      <th>1</th>\n",
       "      <td>John_Timoney_0002.jpg</td>\n",
       "      <td>Chok_Tong_Goh_0002.jpg</td>\n",
       "      <td>False</td>\n",
       "    </tr>\n",
       "    <tr>\n",
       "      <th>2</th>\n",
       "      <td>Sam_Bith_0002.jpg</td>\n",
       "      <td>Bob_Geldof_0002.jpg</td>\n",
       "      <td>False</td>\n",
       "    </tr>\n",
       "    <tr>\n",
       "      <th>3</th>\n",
       "      <td>Joan_Claybrook_0001.jpg</td>\n",
       "      <td>Spencer_Abraham_0003.jpg</td>\n",
       "      <td>False</td>\n",
       "    </tr>\n",
       "    <tr>\n",
       "      <th>4</th>\n",
       "      <td>Jacqueline_Obradors_0001.jpg</td>\n",
       "      <td>Jacqueline_Obradors_0002.jpg</td>\n",
       "      <td>True</td>\n",
       "    </tr>\n",
       "  </tbody>\n",
       "</table>\n",
       "</div>"
      ],
      "text/plain": [
       "                          file1                         file2  label\n",
       "0     Ludivine_Sagnier_0001.jpg       Robert_De_Niro_0003.jpg  False\n",
       "1         John_Timoney_0002.jpg        Chok_Tong_Goh_0002.jpg  False\n",
       "2             Sam_Bith_0002.jpg           Bob_Geldof_0002.jpg  False\n",
       "3       Joan_Claybrook_0001.jpg      Spencer_Abraham_0003.jpg  False\n",
       "4  Jacqueline_Obradors_0001.jpg  Jacqueline_Obradors_0002.jpg   True"
      ]
     },
     "execution_count": 178,
     "metadata": {},
     "output_type": "execute_result"
    }
   ],
   "source": [
    "train_info.head()"
   ]
  },
  {
   "cell_type": "code",
   "execution_count": null,
   "metadata": {},
   "outputs": [],
   "source": []
  }
 ],
 "metadata": {
  "kernelspec": {
   "display_name": "Python 3",
   "language": "python",
   "name": "python3"
  },
  "language_info": {
   "codemirror_mode": {
    "name": "ipython",
    "version": 3
   },
   "file_extension": ".py",
   "mimetype": "text/x-python",
   "name": "python",
   "nbconvert_exporter": "python",
   "pygments_lexer": "ipython3",
   "version": "3.7.7"
  },
  "toc": {
   "base_numbering": 1,
   "nav_menu": {},
   "number_sections": true,
   "sideBar": true,
   "skip_h1_title": false,
   "title_cell": "Table of Contents",
   "title_sidebar": "Contents",
   "toc_cell": false,
   "toc_position": {},
   "toc_section_display": true,
   "toc_window_display": false
  }
 },
 "nbformat": 4,
 "nbformat_minor": 4
}
